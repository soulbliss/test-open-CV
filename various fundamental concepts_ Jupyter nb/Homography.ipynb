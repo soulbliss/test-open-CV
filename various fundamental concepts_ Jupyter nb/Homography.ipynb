{
 "cells": [
  {
   "cell_type": "code",
   "execution_count": 1,
   "metadata": {},
   "outputs": [
    {
     "name": "stdout",
     "output_type": "stream",
     "text": [
      "(511, 768, 3)\n"
     ]
    },
    {
     "data": {
      "text/plain": [
       "-1"
      ]
     },
     "execution_count": 1,
     "metadata": {},
     "output_type": "execute_result"
    }
   ],
   "source": [
    "import cv2\n",
    "import numpy as np\n",
    "from matplotlib import pyplot as plt\n",
    "\n",
    "# Read source image\n",
    "im_src = cv2.imread('1.jpg')\n",
    "pts_src = np.array([[91,86],[306,103],[38,386],[316,404]])\n",
    "\n",
    "# Read destination image\n",
    "im_dst = cv2.imread('2.jpg')\n",
    "pts_dst = np.array([[588,164],[726,239],[430,304],[588,437]])\n",
    "\n",
    "# calculate homography\n",
    "h ,status = cv2.findHomography(pts_src, pts_dst)\n",
    "\n",
    "# warp source image to destination based on homography\n",
    "im_out = cv2.warpPerspective(im_src,h,(im_dst.shape[1],im_dst.shape[0]))\n",
    "\n",
    "cv2.imshow(\"Source Image\", im_src)\n",
    "print(im_dst.shape)\n",
    "cv2.imshow(\"Warped Source Image\", im_out)\n",
    "\n",
    "cv2.waitKey(0)\n",
    "\n"
   ]
  },
  {
   "cell_type": "code",
   "execution_count": null,
   "metadata": {
    "collapsed": true
   },
   "outputs": [],
   "source": []
  },
  {
   "cell_type": "markdown",
   "metadata": {},
   "source": [
    "A Homography is a transformation ( a 3×3 matrix ) that maps the points in one image to the corresponding points in the other image."
   ]
  },
  {
   "cell_type": "code",
   "execution_count": null,
   "metadata": {
    "collapsed": true
   },
   "outputs": [],
   "source": []
  },
  {
   "cell_type": "markdown",
   "metadata": {},
   "source": [
    "## A code of CammScanner"
   ]
  },
  {
   "cell_type": "code",
   "execution_count": 2,
   "metadata": {},
   "outputs": [
    {
     "data": {
      "text/plain": [
       "-1"
      ]
     },
     "execution_count": 2,
     "metadata": {},
     "output_type": "execute_result"
    }
   ],
   "source": [
    "import cv2\n",
    "import numpy as np\n",
    "\n",
    "def mouseHandler(event,x,y,flags,param):\n",
    "    global im_temp, pts_src\n",
    "\n",
    "    if event == cv2.EVENT_LBUTTONDOWN:\n",
    "        cv2.circle(im_temp,(x,y),3,(0,255,255),5,cv2.LINE_AA)\n",
    "        cv2.imshow(\"Image\", im_temp)\n",
    "        if len(pts_src) < 4:\n",
    "        \tpts_src = np.append(pts_src,[(x,y)],axis=0)\n",
    "\n",
    "\n",
    "# Read in the image.\n",
    "im_src = cv2.imread(\"book.jpg\")\n",
    "\n",
    "# Destination image\n",
    "height, width = 400, 300\n",
    "im_dst = np.zeros((height,width,3),dtype=np.uint8)\n",
    "\n",
    "\n",
    "# Create a list of points.\n",
    "pts_dst = np.empty((0,2))\n",
    "pts_dst = np.append(pts_dst, [(0,0)], axis=0)\n",
    "pts_dst = np.append(pts_dst, [(width-1,0)], axis=0)\n",
    "pts_dst = np.append(pts_dst, [(width-1,height-1)], axis=0)\n",
    "pts_dst = np.append(pts_dst, [(0,height-1)], axis=0)\n",
    "\n",
    "# Create a window\n",
    "cv2.namedWindow(\"Image\", 1)\n",
    "\n",
    "im_temp = im_src\n",
    "pts_src = np.empty((0,2))\n",
    "\n",
    "cv2.setMouseCallback(\"Image\",mouseHandler)\n",
    "\n",
    "\n",
    "cv2.imshow(\"Image\", im_temp)\n",
    "cv2.waitKey(0)\n",
    "\n",
    "tform, status = cv2.findHomography(pts_src, pts_dst)\n",
    "im_dst = cv2.warpPerspective(im_src, tform,(width,height))\n",
    "\n",
    "cv2.imshow(\"Image\", im_dst)\n",
    "cv2.waitKey(0)"
   ]
  },
  {
   "cell_type": "code",
   "execution_count": null,
   "metadata": {
    "collapsed": true
   },
   "outputs": [],
   "source": []
  }
 ],
 "metadata": {
  "kernelspec": {
   "display_name": "Python 3",
   "language": "python",
   "name": "python3"
  },
  "language_info": {
   "codemirror_mode": {
    "name": "ipython",
    "version": 3
   },
   "file_extension": ".py",
   "mimetype": "text/x-python",
   "name": "python",
   "nbconvert_exporter": "python",
   "pygments_lexer": "ipython3",
   "version": "3.6.1"
  }
 },
 "nbformat": 4,
 "nbformat_minor": 2
}

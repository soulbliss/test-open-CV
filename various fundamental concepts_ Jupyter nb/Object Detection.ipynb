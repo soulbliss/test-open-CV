{
 "cells": [
  {
   "cell_type": "code",
   "execution_count": 15,
   "metadata": {},
   "outputs": [],
   "source": [
    "import cv2\n",
    "import numpy as np\n",
    "\n",
    "image = cv2.imread('thebeach.jpg')\n",
    "cv2.imshow('where is waldo',image)\n",
    "cv2.waitKey(0)\n",
    "\n",
    "gray = cv2.cvtColor(image,cv2.COLOR_BGR2GRAY)\n",
    "template = cv2.imread('waldo.jpg',0)\n",
    "\n",
    "result = cv2.matchTemplate(gray,template, cv2.TM_CCOEFF)\n",
    "# cv2.TM_CCOEFF is corelational coefficient\n",
    "min_val, max_val , min_loc, max_loc = cv2.minMaxLoc(result)\n",
    "\n",
    "#print(min_val,max_val, min_loc,max_loc)\n",
    "#print(result)\n",
    "\n",
    "\n",
    "\n",
    "#create a bounding box\n",
    "top_left = max_loc\n",
    "bottom_right = (top_left[0]+50, top_left[1]+50)\n",
    "cv2.rectangle(image, top_left, bottom_right, (0,0,255),2)\n",
    "\n",
    "cv2.imshow('here is waldo', image)\n",
    "cv2.waitKey(0)\n",
    "cv2.destroyAllWindows()\n"
   ]
  },
  {
   "cell_type": "code",
   "execution_count": null,
   "metadata": {
    "collapsed": true
   },
   "outputs": [],
   "source": []
  }
 ],
 "metadata": {
  "kernelspec": {
   "display_name": "Python 3",
   "language": "python",
   "name": "python3"
  },
  "language_info": {
   "codemirror_mode": {
    "name": "ipython",
    "version": 3
   },
   "file_extension": ".py",
   "mimetype": "text/x-python",
   "name": "python",
   "nbconvert_exporter": "python",
   "pygments_lexer": "ipython3",
   "version": "3.6.1"
  }
 },
 "nbformat": 4,
 "nbformat_minor": 2
}

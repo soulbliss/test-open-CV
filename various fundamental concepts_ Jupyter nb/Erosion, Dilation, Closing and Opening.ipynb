{
 "cells": [
  {
   "cell_type": "markdown",
   "metadata": {},
   "source": [
    "There are some other less popular morphology operation, check the below         hyperlink\n",
    "      : \n",
    "      https://docs.opencv.org/trunk/d9/d61/tutorial_py_morphological_ops.html"
   ]
  },
  {
   "cell_type": "code",
   "execution_count": 12,
   "metadata": {
    "collapsed": true
   },
   "outputs": [],
   "source": [
    "import cv2\n",
    "import numpy as np\n",
    "\n",
    "image = cv2.imread('ab.jpg',0)\n",
    "cv2.imshow('original',image)\n",
    "cv2.waitKey()\n",
    "\n",
    "#lets define our kernal size\n",
    "kernel = np.ones((3,3),dtype = np.uint8)\n",
    "\n",
    "#now we erode\n",
    "erosion = cv2.erode(image,kernel, iterations=1)\n",
    "cv2.imshow('eroded',erosion)\n",
    "cv2.waitKey()\n",
    "\n",
    "#now we dilate\n",
    "dilation = cv2.dilate(image,kernel, iterations =1)\n",
    "cv2.imshow('dilate',dilation)\n",
    "cv2.waitKey()\n",
    "\n",
    "\n",
    "#opening - good for noise removal\n",
    "opening = cv2.morphologyEx(image, cv2.MORPH_OPEN , kernel)\n",
    "cv2.imshow('Opening morphed',opening)\n",
    "cv2.waitKey()\n",
    "\n",
    "#closing - good for noise removal\n",
    "closing = cv2.morphologyEx(image, cv2.MORPH_CLOSE , kernel)\n",
    "cv2.imshow('closing morphed',closing)\n",
    "cv2.waitKey()\n",
    "\n",
    "cv2.destroyAllWindows()\n",
    "\n"
   ]
  },
  {
   "cell_type": "code",
   "execution_count": null,
   "metadata": {
    "collapsed": true
   },
   "outputs": [],
   "source": []
  },
  {
   "cell_type": "code",
   "execution_count": null,
   "metadata": {
    "collapsed": true
   },
   "outputs": [],
   "source": []
  }
 ],
 "metadata": {
  "kernelspec": {
   "display_name": "Python 3",
   "language": "python",
   "name": "python3"
  },
  "language_info": {
   "codemirror_mode": {
    "name": "ipython",
    "version": 3
   },
   "file_extension": ".py",
   "mimetype": "text/x-python",
   "name": "python",
   "nbconvert_exporter": "python",
   "pygments_lexer": "ipython3",
   "version": "3.6.1"
  }
 },
 "nbformat": 4,
 "nbformat_minor": 2
}

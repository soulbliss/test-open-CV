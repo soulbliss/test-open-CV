{
 "cells": [
  {
   "cell_type": "markdown",
   "metadata": {},
   "source": [
    "        Resizing is very cv2.resize function its arguments are:\n",
    "        "
   ]
  },
  {
   "cell_type": "code",
   "execution_count": 5,
   "metadata": {
    "collapsed": true
   },
   "outputs": [],
   "source": [
    "import cv2\n",
    "import numpy as np\n",
    "\n",
    "image = cv2.imread('clouds.jpg')\n",
    "\n",
    "#lets make a image 3/4 th of its orignal size\n",
    "image_scaled = cv2.resize(image, None, fx= 0.75, fy=0.75)\n",
    "cv2.imshow('scaling - LINEAR interpolation',image_scaled)\n",
    "cv2.waitKey()\n",
    "\n",
    "\n",
    "#lets double the size of our image\n",
    "image_scaled = cv2.resize(image,None, fx=2, fy=2, interpolation= cv2.INTER_CUBIC)\n",
    "cv2.imshow('scaling - CUBIC interpolation',image_scaled)\n",
    "cv2.waitKey()\n",
    "\n",
    "#lets skew the re-sizing by giving exlpicit dimensions\n",
    "image_scaled = cv2.resize(image,(1280,720), interpolation= cv2.INTER_AREA)\n",
    "cv2.imshow('scaling - SKEWED interpolation',image_scaled)\n",
    "cv2.waitKey()\n",
    "\n",
    "cv2.destroyAllWindows()\n",
    "\n"
   ]
  },
  {
   "cell_type": "code",
   "execution_count": null,
   "metadata": {
    "collapsed": true
   },
   "outputs": [],
   "source": []
  },
  {
   "cell_type": "code",
   "execution_count": null,
   "metadata": {
    "collapsed": true
   },
   "outputs": [],
   "source": []
  },
  {
   "cell_type": "code",
   "execution_count": null,
   "metadata": {
    "collapsed": true
   },
   "outputs": [],
   "source": []
  },
  {
   "cell_type": "code",
   "execution_count": null,
   "metadata": {
    "collapsed": true
   },
   "outputs": [],
   "source": []
  },
  {
   "cell_type": "code",
   "execution_count": null,
   "metadata": {
    "collapsed": true
   },
   "outputs": [],
   "source": []
  },
  {
   "cell_type": "code",
   "execution_count": null,
   "metadata": {
    "collapsed": true
   },
   "outputs": [],
   "source": []
  }
 ],
 "metadata": {
  "kernelspec": {
   "display_name": "Python 3",
   "language": "python",
   "name": "python3"
  },
  "language_info": {
   "codemirror_mode": {
    "name": "ipython",
    "version": 3
   },
   "file_extension": ".py",
   "mimetype": "text/x-python",
   "name": "python",
   "nbconvert_exporter": "python",
   "pygments_lexer": "ipython3",
   "version": "3.6.1"
  }
 },
 "nbformat": 4,
 "nbformat_minor": 2
}

{
 "cells": [
  {
   "cell_type": "markdown",
   "metadata": {},
   "source": [
    " cv2.findContours(image , Retreival mode, approximation mode)\n",
    " \n",
    " the variable 'contours' are stored as numpy array of (x,y) points that form \n",
    " contours \n",
    " \n",
    " While,'hierarchy' describes the parent child relationship between contours"
   ]
  },
  {
   "cell_type": "code",
   "execution_count": 22,
   "metadata": {},
   "outputs": [
    {
     "name": "stdout",
     "output_type": "stream",
     "text": [
      "number of contours found = 7\n"
     ]
    }
   ],
   "source": [
    "import cv2\n",
    "import numpy as np\n",
    "\n",
    "image = cv2.imread('shapes.png')\n",
    "#for scaling the image\n",
    "#image = cv2.resize(image, None, fx= 0.2, fy=0.2)\n",
    "cv2.imshow('Input image',image)\n",
    "cv2.waitKey(0)\n",
    "\n",
    "#grayscale\n",
    "image_gray = cv2.cvtColor(image,cv2.COLOR_BGR2GRAY)\n",
    "\n",
    "#find canny edges\n",
    "edged = cv2.Canny(image_gray,20,120)\n",
    "cv2.imshow('canny edges',edged)\n",
    "cv2.waitKey(0)\n",
    "\n",
    "#finding contours\n",
    "#use a copy of your image e.g edged.copy(), since findcountours() \n",
    "#alters the image\n",
    "_,contours, hierarchy = cv2.findContours(edged,cv2.RETR_EXTERNAL, cv2.CHAIN_APPROX_NONE)\n",
    "cv2.imshow('CONTOURS',edged)\n",
    "cv2.waitKey(0)\n",
    "\n",
    "print('number of contours found = '+str(len(contours)))\n",
    "\n",
    "#draw all contours\n",
    "#use -1 as the third parameter to draw all\n",
    "\n",
    "cv2.drawContours(image,contours,-1,(0,0,255),2)\n",
    "\n",
    "cv2.imshow('Contours',image)\n",
    "cv2.waitKey(0)\n",
    "cv2.destroyAllWindows()\n",
    "\n",
    " "
   ]
  },
  {
   "cell_type": "code",
   "execution_count": null,
   "metadata": {
    "collapsed": true
   },
   "outputs": [],
   "source": []
  },
  {
   "cell_type": "markdown",
   "metadata": {},
   "source": [
    "    Approximation Methods\n",
    "\n",
    "Using cv2.CHAIN_APPROX_NONE stores all boundary points. But we don't necessarily need all bounding points. If the points form a straight line ,we only need the start and end points of the line.\n",
    "\n",
    "Using cv2.CHAIN_APPROX_SIMPLE instead provides only the start and end points of bounding contours, thus resulting in a much more effecient storage of contour imformation\n"
   ]
  }
 ],
 "metadata": {
  "kernelspec": {
   "display_name": "Python 3",
   "language": "python",
   "name": "python3"
  },
  "language_info": {
   "codemirror_mode": {
    "name": "ipython",
    "version": 3
   },
   "file_extension": ".py",
   "mimetype": "text/x-python",
   "name": "python",
   "nbconvert_exporter": "python",
   "pygments_lexer": "ipython3",
   "version": "3.6.1"
  }
 },
 "nbformat": 4,
 "nbformat_minor": 2
}

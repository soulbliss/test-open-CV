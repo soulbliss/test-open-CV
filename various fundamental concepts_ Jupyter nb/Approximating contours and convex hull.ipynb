{
 "cells": [
  {
   "cell_type": "code",
   "execution_count": 1,
   "metadata": {
    "collapsed": true
   },
   "outputs": [],
   "source": [
    "import cv2\n",
    "import numpy as np"
   ]
  },
  {
   "cell_type": "markdown",
   "metadata": {},
   "source": [
    "    \n",
    "    cv2.approxPolyDP(contour, Approximation Accuracy, Closed)\n",
    "\n",
    "contour                 =  is the individual contour we wish to approximate\n",
    "\n",
    "Approximation Accuracy  = imp parameter in determining the accuracy of the approx.\n",
    "                          small values give precise approx.\n",
    "                          large values give generic approx.\n",
    "                          A good rule of thumb is less than 5% of contour perimeter\n",
    "                          \n",
    "Closed                  = a boolean value that states whether the approx conotour should be opened or                           closed "
   ]
  },
  {
   "cell_type": "code",
   "execution_count": 1,
   "metadata": {
    "collapsed": true
   },
   "outputs": [],
   "source": [
    "import cv2\n",
    "import numpy as np\n",
    "\n",
    "red   =(0,0,255)\n",
    "green =(0,255,0)\n",
    "blue  =(255,0,0)\n",
    "\n",
    "image = cv2.imread('home.jpg')\n",
    "orig_image = image.copy()\n",
    "cv2.imshow('1- Orignal_image',image)\n",
    "cv2.waitKey(0)\n",
    "\n",
    "#grayscale and binarize\n",
    "gray = cv2.cvtColor(image, cv2.COLOR_BGR2GRAY)\n",
    "ret, thresh = cv2.threshold(gray, 230, 255, cv2.THRESH_BINARY_INV)\n",
    "\n",
    "\n",
    "#find contours\n",
    "_, contours, hierarchy = cv2.findContours(thresh.copy(), cv2.RETR_LIST, cv2.CHAIN_APPROX_NONE)\n",
    "\n",
    "\n",
    "#iterate through each rectangle and compute the bounding rectangle\n",
    "for c in contours:\n",
    "    x, y, w, h = cv2.boundingRect(c)\n",
    "    cv2.rectangle(orig_image, (x,y), (x+w,y+h),red, 2)\n",
    "    cv2.imshow('2- Bounding rect',orig_image)\n",
    "    cv2.waitKey(0)\n",
    "    \n",
    "#iterate through each contour and compute the approx contour\n",
    "for c in contours:\n",
    "    #calculate accuracy as a percent of the contour perimeter\n",
    "    accuracy = 0.001*cv2.arcLength(c, True)\n",
    "    approx = cv2.approxPolyDP(c ,accuracy, True)\n",
    "    cv2.drawContours(image, [approx], 0 , red ,2 )\n",
    "    cv2.imshow('Approx poly Dp',image)\n",
    "    cv2.waitKey(0)\n",
    "    \n",
    "    \n",
    "cv2.waitKey(0)\n",
    "cv2.destroyAllWindows()\n"
   ]
  },
  {
   "cell_type": "code",
   "execution_count": null,
   "metadata": {
    "collapsed": true
   },
   "outputs": [],
   "source": []
  },
  {
   "cell_type": "code",
   "execution_count": null,
   "metadata": {
    "collapsed": true
   },
   "outputs": [],
   "source": []
  },
  {
   "cell_type": "markdown",
   "metadata": {},
   "source": [
    "# Convex Hull"
   ]
  },
  {
   "cell_type": "code",
   "execution_count": 40,
   "metadata": {
    "collapsed": true
   },
   "outputs": [],
   "source": [
    "import cv2\n",
    "import numpy as np\n",
    "\n",
    "red   =(0,0,255)\n",
    "green =(0,255,0)\n",
    "blue  =(255,0,0)\n",
    "\n",
    "image = cv2.imread('hand.jpg')\n",
    "gray = cv2.cvtColor(image, cv2.COLOR_BGR2GRAY)\n",
    "\n",
    "\n",
    "cv2.imshow('1- Orignal_image',image)\n",
    "cv2.waitKey(0)\n",
    "\n",
    "#threshold the image\n",
    "ret, thresh = cv2.threshold(gray,126,255,0)\n",
    "\n",
    "#find the contour \n",
    "_,countours, hierarchy = cv2.findContours(thresh.copy(), cv2.RETR_LIST, cv2.CHAIN_APPROX_NONE)\n",
    "\n",
    "#sort contours by area and then remove the largest frame contour\n",
    "n = len(contours) - 1\n",
    "countours = sorted(contours, key = cv2.contourArea , reverse= True)[:n]\n",
    "\n",
    "#iterate through contours and draw the convex hull\n",
    "for c in countours:\n",
    "    hull = cv2.convexHull(c)\n",
    "    cv2.drawContours(image, [hull], 0 , red ,2 )\n",
    "    cv2.imshow('2- convex hull',image)\n",
    "    \n",
    "cv2.waitKey(0)\n",
    "cv2.destroyAllWindows()\n"
   ]
  },
  {
   "cell_type": "code",
   "execution_count": null,
   "metadata": {
    "collapsed": true
   },
   "outputs": [],
   "source": []
  }
 ],
 "metadata": {
  "kernelspec": {
   "display_name": "Python 3",
   "language": "python",
   "name": "python3"
  },
  "language_info": {
   "codemirror_mode": {
    "name": "ipython",
    "version": 3
   },
   "file_extension": ".py",
   "mimetype": "text/x-python",
   "name": "python",
   "nbconvert_exporter": "python",
   "pygments_lexer": "ipython3",
   "version": "3.6.1"
  }
 },
 "nbformat": 4,
 "nbformat_minor": 2
}

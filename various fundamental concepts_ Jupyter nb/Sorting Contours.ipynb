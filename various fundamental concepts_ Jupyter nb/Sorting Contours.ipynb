{
 "cells": [
  {
   "cell_type": "markdown",
   "metadata": {},
   "source": [
    "We can sort contours in many ways"
   ]
  },
  {
   "cell_type": "code",
   "execution_count": 6,
   "metadata": {},
   "outputs": [
    {
     "name": "stdout",
     "output_type": "stream",
     "text": [
      "Number of contours found is  7\n"
     ]
    }
   ],
   "source": [
    "import cv2\n",
    "import numpy as np\n",
    "\n",
    "image = cv2.imread('shapes.jpg')\n",
    "cv2.imshow('orignal image',image)\n",
    "cv2.waitKey(0)\n",
    "\n",
    "#create a black image with the same dimensions as that of our loaded image\n",
    "blank_image = np.zeros((image.shape[0],image.shape[1],3))\n",
    "\n",
    "#create a copy of our image\n",
    "orignal_image = image\n",
    "\n",
    "#grayscale our image\n",
    "gray = cv2.cvtColor(image,cv2.COLOR_BGR2GRAY)\n",
    "\n",
    "#find canny edges\n",
    "edges = cv2.Canny(image,0,255)\n",
    "cv2.imshow('canny edges',edges)\n",
    "cv2.waitKey(0)\n",
    "\n",
    "#find contours and print how many were found\n",
    "_, contours, hierarchy = cv2.findContours(edges.copy(), cv2.RETR_EXTERNAL, cv2.CHAIN_APPROX_NONE)\n",
    "print('Number of contours found is ',len(contours))\n",
    "\n",
    "#Draw contours all over blank image\n",
    "cv2.drawContours(blank_image, contours,-1, (0,255,0),2)\n",
    "cv2.imshow('Contours over blank image',blank_image)\n",
    "cv2.waitKey(0)\n",
    "\n",
    "#Draw all contours \n",
    "cv2.drawContours(image, contours,-1, (0,255,0),2)\n",
    "cv2.imshow('Contours over blank image',image)\n",
    "cv2.waitKey(0)\n",
    "\n",
    "\n",
    "\n",
    "cv2.destroyAllWindows()"
   ]
  },
  {
   "cell_type": "code",
   "execution_count": null,
   "metadata": {
    "collapsed": true
   },
   "outputs": [],
   "source": []
  },
  {
   "cell_type": "code",
   "execution_count": null,
   "metadata": {
    "collapsed": true
   },
   "outputs": [],
   "source": []
  },
  {
   "cell_type": "markdown",
   "metadata": {},
   "source": [
    "    Lets sort contours by size"
   ]
  },
  {
   "cell_type": "code",
   "execution_count": 2,
   "metadata": {},
   "outputs": [
    {
     "name": "stdout",
     "output_type": "stream",
     "text": [
      "Number of contours found is  7\n",
      "contour areas before sorting\n",
      "[49266.5, 28625.0, 33153.5, 0.0, 29203.0, 38817.5, 157.5]\n",
      "contour areas after sorting\n",
      "[49266.5, 38817.5, 33153.5, 29203.0, 28625.0, 157.5, 0.0]\n"
     ]
    }
   ],
   "source": [
    "import cv2\n",
    "import numpy as np\n",
    "\n",
    "def get_contour_areas(contours):\n",
    "    #returns the area of all countours as list\n",
    "    all_areas = []\n",
    "    for cnt in contours:\n",
    "        area = cv2.contourArea(cnt)\n",
    "        all_areas.append(area)\n",
    "    return all_areas    \n",
    "\n",
    "\n",
    "#load our image\n",
    "image = cv2.imread('shapes.jpg')\n",
    "cv2.imshow('orignal image',image)\n",
    "cv2.waitKey(0)\n",
    "\n",
    "#grayscale our image\n",
    "gray = cv2.cvtColor(image,cv2.COLOR_BGR2GRAY)\n",
    "\n",
    "#find canny edges\n",
    "edges = cv2.Canny(image,0,255)\n",
    "cv2.imshow('canny edges',edges)\n",
    "cv2.waitKey(0)\n",
    "\n",
    "#find contours and print how many were found\n",
    "_, contours, hierarchy = cv2.findContours(edges.copy(), cv2.RETR_EXTERNAL, cv2.CHAIN_APPROX_NONE)\n",
    "print('Number of contours found is ',len(contours))\n",
    "\n",
    "#let's print the areas of the contours before sorting\n",
    "print('contour areas before sorting')\n",
    "print(get_contour_areas(contours))\n",
    "\n",
    "#sort contours large to small\n",
    "sorted_contours = sorted(contours, key =cv2.contourArea, reverse = True)\n",
    "\n",
    "print('contour areas after sorting')\n",
    "print(get_contour_areas(sorted_contours))\n",
    "\n",
    "\n",
    "#iterate over contours and draw one at a time\n",
    "for cnt in contours:\n",
    "    cv2.drawContours(image,[cnt], -1, (255,0,0),2)\n",
    "    cv2.imshow('Contours by area',image)\n",
    "    cv2.waitKey(0)\n",
    "    \n",
    "    \n",
    "\n",
    "cv2.destroyAllWindows()"
   ]
  },
  {
   "cell_type": "code",
   "execution_count": null,
   "metadata": {
    "collapsed": true
   },
   "outputs": [],
   "source": []
  },
  {
   "cell_type": "code",
   "execution_count": null,
   "metadata": {
    "collapsed": true
   },
   "outputs": [],
   "source": [
    "import cv2\n",
    "import numpy as np\n",
    "\n",
    "#functions we will use for sortimg by positon\n",
    "'''\n",
    "def x_cord_contour(contours):\n",
    "    #returns the x coordinate for the contour centroid\n",
    "    if cv2.contourArea(contours) > '10':\n",
    "        M = cv2.moments(contours)\n",
    "        if M[\"m00\"] != 0:\n",
    "        \tcx = int(M[\"m10\"] / M[\"m00\"])\n",
    "        else:\n",
    "        \tcx = 0\n",
    "        return(cx)\n",
    " '''   \n",
    "def label_contuour_center(image, c):\n",
    "    #places a red circle on the centers of the contours\n",
    "    M = cv2.moments(c)\n",
    "    if M[\"m00\"] != 0:\n",
    "    \tcx = int(M[\"m10\"] / M[\"m00\"])\n",
    "    \tcy = int(M[\"m01\"] / M[\"m00\"])\n",
    "    else:\n",
    "    \tcx, cy = 0, 0\n",
    "\n",
    "    #draw the contour number on the image\n",
    "    cv2.circle(image, (cx,cy), 10, (0,0,255), -1 )\n",
    "    return image\n",
    "\n",
    "\n",
    "#load our image\n",
    "image = cv2.imread('shapes.jpg')\n",
    "orignal_image = image.copy()\n",
    "cv2.imshow('orignal image',image)\n",
    "cv2.waitKey(0)\n",
    "\n",
    "\n",
    "#grayscale our image\n",
    "gray = cv2.cvtColor(image,cv2.COLOR_BGR2GRAY)\n",
    "\n",
    "#find canny edges\n",
    "edges = cv2.Canny(image,0,255)\n",
    "cv2.imshow('canny edges',edges)\n",
    "cv2.waitKey(0)\n",
    "\n",
    "#find contours and print how many were found\n",
    "_, contours, hierarchy = cv2.findContours(edges.copy(), cv2.RETR_EXTERNAL, cv2.CHAIN_APPROX_NONE)\n",
    "print('Number of contours found is ',len(contours))\n",
    "\n",
    "       \n",
    "    \n",
    "#compute centre of mass or centroid and draw them on our image\n",
    "for(i, c) in enumerate(contours):\n",
    "    orig = label_contuour_center(image , c)\n",
    "\n",
    "cv2.imshow('contours centres',image)\n",
    "cv2.waitKey(0)\n",
    "            \n",
    "            \n",
    "\n",
    "            \n",
    "#labelling contours left to right\n",
    "for (i, c) in enumerate(contours):\n",
    "    cv2.drawContours(orignal_image, [c], -1, (0,0,255), 3)\n",
    "    M = cv2.moments(c)\n",
    "    if M[\"m00\"] != 0:\n",
    "    \tcx = int(M[\"m10\"] / M[\"m00\"])\n",
    "    \tcy = int(M[\"m01\"] / M[\"m00\"])\n",
    "    else:\n",
    "    \tcx, cy = 0, 0\n",
    "    cv2.putText(orignal_image, str(i+1), (cx,cy), cv2.FONT_HERSHEY_COMPLEX, 1, (0,0,255),2)\n",
    "    cv2.imshow('contours centres in incres size',orignal_image)\n",
    "    cv2.waitKey(0)        \n",
    "    (x, y, w, h) = cv2.boundingRect(c)\n",
    "    \n",
    "    #lets now crop each contour and save them into images\n",
    "    cropped_contour = orignal_image[y:y+h, x:x+w]\n",
    "    image_name = \"output_shape_number_\" +str(i+1)+ \".jpg\"\n",
    "    print(image_name)\n",
    "    cv2.imwrite(image_name,cropped_contour)\n",
    "    \n",
    "\n",
    "cv2.destroyAllWindows()"
   ]
  }
 ],
 "metadata": {
  "kernelspec": {
   "display_name": "Python 3",
   "language": "python",
   "name": "python3"
  },
  "language_info": {
   "codemirror_mode": {
    "name": "ipython",
    "version": 3
   },
   "file_extension": ".py",
   "mimetype": "text/x-python",
   "name": "python",
   "nbconvert_exporter": "python",
   "pygments_lexer": "ipython3",
   "version": "3.6.1"
  }
 },
 "nbformat": 4,
 "nbformat_minor": 2
}

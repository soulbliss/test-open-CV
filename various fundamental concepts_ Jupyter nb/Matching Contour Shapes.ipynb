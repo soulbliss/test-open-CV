{
 "cells": [
  {
   "cell_type": "code",
   "execution_count": 1,
   "metadata": {
    "collapsed": true
   },
   "outputs": [],
   "source": [
    "import cv2\n",
    "import numpy as np"
   ]
  },
  {
   "cell_type": "code",
   "execution_count": null,
   "metadata": {
    "collapsed": true
   },
   "outputs": [],
   "source": []
  },
  {
   "cell_type": "markdown",
   "metadata": {},
   "source": [
    "    cv2.matchShapes(contour_templates, contour, method, method_parameter)\n",
    "    \n",
    "    output = match value (lower value means a closer match)\n",
    "    \n",
    "    * contour template = this is the referance image we are trying to find in the image\n",
    "    * contour          = the individual contuor we are checkig up against\n",
    "    * method           =  type of contour matching (1,2,3)\n",
    "    * method parameter =  leave alone as 0.0 (not fully utilzed in python opencv)\n",
    "    \n",
    "    "
   ]
  },
  {
   "cell_type": "code",
   "execution_count": 1,
   "metadata": {},
   "outputs": [
    {
     "name": "stdout",
     "output_type": "stream",
     "text": [
      "1.7976931348623157e+308\n",
      "1.7976931348623157e+308\n",
      "1.7976931348623157e+308\n",
      "1.7976931348623157e+308\n",
      "1.7976931348623157e+308\n",
      "1.7976931348623157e+308\n",
      "0.09817374634720977\n",
      "0.09817374634720977\n",
      "1.7976931348623157e+308\n",
      "0.09817374634720977\n",
      "1.7976931348623157e+308\n",
      "0.25400877181049797\n",
      "0.45872408632384887\n",
      "1.7976931348623157e+308\n",
      "0.12367500333234471\n",
      "0.11615885302073337\n",
      "1.7976931348623157e+308\n",
      "1.7976931348623157e+308\n",
      "0.12100771915249964\n",
      "0.012582219685470797\n",
      "0.07791751274639036\n",
      "0.04154751455989292\n",
      "1.7976931348623157e+308\n",
      "0.11552308045392301\n",
      "0.07102427239992681\n",
      "0.015415791122340039\n",
      "0.2591552073131539\n",
      "0.0871635307283527\n",
      "0.43510164268299223\n",
      "0.0947335348833861\n",
      "0.07067733467466952\n",
      "0.11439440512726584\n",
      "0.0009457740052004615\n",
      "0.07260861916489814\n",
      "0.08627958447612127\n",
      "0.04605269777740184\n",
      "0.06757836981923082\n",
      "0.08018627529878564\n",
      "0.06402256384565697\n",
      "0.0665528362792448\n"
     ]
    }
   ],
   "source": [
    "import cv2\n",
    "import numpy as np\n",
    "\n",
    "red   =(0,0,255)\n",
    "green =(0,255,0)\n",
    "blue  =(255,0,0)\n",
    "\n",
    "#load reference image\n",
    "template = cv2.imread('star.jpg',0)\n",
    "cv2.imshow('1-og image',template)\n",
    "cv2.waitKey()\n",
    "\n",
    "#load the target image \n",
    "target = cv2.imread('many_stars.jpg')\n",
    "target_gray = cv2.cvtColor(target, cv2.COLOR_BGR2GRAY)\n",
    "\n",
    "#threshold both images\n",
    "ret, thresh1 = cv2.threshold(template, 200, 255 ,0)\n",
    "ret , thresh2 = cv2.threshold(target_gray, 200 ,255, 0) \n",
    "\n",
    "\n",
    "#finding contours in template\n",
    "_, contours, hierarchy = cv2.findContours(thresh1, cv2.RETR_CCOMP, cv2.CHAIN_APPROX_SIMPLE)\n",
    "\n",
    "#WE NEED TO SORT THE COUNTOURS AND REMOVE THE LARGEST OF ALL THEM\n",
    "#WHICH IS THE IMAGE OUTLINE ITSELF\n",
    "sorted_contours = sorted(contours, key = cv2.contourArea, reverse = True)\n",
    "\n",
    "#we extract the second largest contour which will be the template contour\n",
    "template_contour = contours[1]\n",
    "\n",
    "\n",
    "#extract contours from target image \n",
    "_, contours, hierarchy = cv2.findContours(thresh2, cv2.RETR_CCOMP, cv2.CHAIN_APPROX_SIMPLE)\n",
    "closest_match=[]\n",
    "\n",
    "for c in contours:\n",
    "    #iterate over through each contour in the target image and\n",
    "    # use cv2.matchShapes to compare contour shapes\n",
    "    match = cv2.matchShapes(template_contour, c, 2, 0.0)\n",
    "    print(match)\n",
    "    \n",
    "    if match < 0.15:\n",
    "        closest_match = c\n",
    "    else:\n",
    "        closest_match = []\n",
    "\n",
    "cv2.drawContours(target, [closest_match], -1, red,3)\n",
    "cv2.imshow('output',target)\n",
    "cv2.waitKey()\n",
    "cv2.destroyAllWindows()\n",
    "    \n",
    "\n",
    "    "
   ]
  },
  {
   "cell_type": "code",
   "execution_count": null,
   "metadata": {
    "collapsed": true
   },
   "outputs": [],
   "source": []
  },
  {
   "cell_type": "code",
   "execution_count": null,
   "metadata": {
    "collapsed": true
   },
   "outputs": [],
   "source": []
  },
  {
   "cell_type": "code",
   "execution_count": null,
   "metadata": {
    "collapsed": true
   },
   "outputs": [],
   "source": []
  },
  {
   "cell_type": "code",
   "execution_count": null,
   "metadata": {
    "collapsed": true
   },
   "outputs": [],
   "source": []
  },
  {
   "cell_type": "code",
   "execution_count": null,
   "metadata": {
    "collapsed": true
   },
   "outputs": [],
   "source": []
  },
  {
   "cell_type": "code",
   "execution_count": null,
   "metadata": {
    "collapsed": true
   },
   "outputs": [],
   "source": []
  }
 ],
 "metadata": {
  "kernelspec": {
   "display_name": "Python 3",
   "language": "python",
   "name": "python3"
  },
  "language_info": {
   "codemirror_mode": {
    "name": "ipython",
    "version": 3
   },
   "file_extension": ".py",
   "mimetype": "text/x-python",
   "name": "python",
   "nbconvert_exporter": "python",
   "pygments_lexer": "ipython3",
   "version": "3.6.1"
  }
 },
 "nbformat": 4,
 "nbformat_minor": 2
}

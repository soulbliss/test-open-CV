{
 "cells": [
  {
   "cell_type": "markdown",
   "metadata": {},
   "source": [
    "cv2.Houghlines( binarized/thresholdimage, ρ accuracy, θ accuracy, threshold)\n",
    "\n",
    "* threshold = is the minimum vote for it to be considered a line"
   ]
  },
  {
   "cell_type": "code",
   "execution_count": 9,
   "metadata": {},
   "outputs": [
    {
     "name": "stdout",
     "output_type": "stream",
     "text": [
      "18 1 2\n"
     ]
    }
   ],
   "source": [
    "import cv2\n",
    "import numpy as np\n",
    "import math\n",
    "\n",
    "image1 = cv2.imread('shapes.jpg')\n",
    "gray=cv2.cvtColor(image1,cv2.COLOR_BGR2GRAY)\n",
    "dst = cv2.Canny(gray, 30, 70)\n",
    "\n",
    "lines= cv2.HoughLines(dst, 1, math.pi/180.0, 100, np.array([]), 0, 0)\n",
    "\n",
    "\n",
    "a,b,c = lines.shape\n",
    "print(a,b,c)\n",
    "for i in range(a):\n",
    "    rho = lines[i][0][0]\n",
    "    theta = lines[i][0][1]\n",
    "    a = math.cos(theta)\n",
    "    b = math.sin(theta)\n",
    "    x0, y0 = a*rho, b*rho\n",
    "    pt1 = ( int(x0+1000*(-b)), int(y0+1000*(a)) )\n",
    "    pt2 = ( int(x0-1000*(-b)), int(y0-1000*(a)) )\n",
    "    cv2.line(image1, pt1, pt2, (0, 0, 255), 2, cv2.LINE_AA)\n",
    "\n",
    "\n",
    "cv2.imshow('image1',image1)\n",
    "cv2.waitKey(0)\n",
    "cv2.destroyAllWindows()"
   ]
  },
  {
   "cell_type": "code",
   "execution_count": null,
   "metadata": {
    "collapsed": true
   },
   "outputs": [],
   "source": []
  },
  {
   "cell_type": "markdown",
   "metadata": {},
   "source": [
    "Probabilistic Hue lines\n",
    "\n",
    "* cv2.HoughLinesP(binarized image,ρ accuracy, θ accuracy, threshold, min line len, max line len )"
   ]
  },
  {
   "cell_type": "code",
   "execution_count": 10,
   "metadata": {},
   "outputs": [
    {
     "name": "stdout",
     "output_type": "stream",
     "text": [
      "(197, 1, 4)\n"
     ]
    }
   ],
   "source": [
    "import cv2\n",
    "import numpy as np\n",
    "\n",
    "image = cv2.imread('shapes.jpg')\n",
    "gray=cv2.cvtColor(image1,cv2.COLOR_BGR2GRAY)\n",
    "edges = cv2.Canny(gray, 100, 170, apertureSize = 3)\n",
    "\n",
    "#we specify a minumim vote (pts along line ) of 100\n",
    "#andd min line length of 5 pixels and max gap between lines of 10 pixel \n",
    "\n",
    "lines = cv2.HoughLinesP(edges, 1, np.pi/180, 100, 5, 10)\n",
    "print(lines.shape)\n",
    "\n",
    "for x1, y1, x2, y2 in lines[0]:\n",
    "    cv2.line(image, (x1,y1), (x2,y2),(0,0,255),3)\n",
    "    \n",
    "cv2.imshow('Probabilistic Hough lines',image)\n",
    "cv2.waitKey(0)\n",
    "cv2.destroyAllWindows()    "
   ]
  }
 ],
 "metadata": {
  "kernelspec": {
   "display_name": "Python 3",
   "language": "python",
   "name": "python3"
  },
  "language_info": {
   "codemirror_mode": {
    "name": "ipython",
    "version": 3
   },
   "file_extension": ".py",
   "mimetype": "text/x-python",
   "name": "python",
   "nbconvert_exporter": "python",
   "pygments_lexer": "ipython3",
   "version": "3.6.1"
  }
 },
 "nbformat": 4,
 "nbformat_minor": 2
}

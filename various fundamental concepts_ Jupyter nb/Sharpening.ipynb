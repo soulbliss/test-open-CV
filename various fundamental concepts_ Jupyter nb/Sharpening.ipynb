{
 "cells": [
  {
   "cell_type": "markdown",
   "metadata": {},
   "source": [
    " By implementing and manipulating our kernels, sharpening is achieved \n",
    " which helps in strenthening and emphasizing edges in an array"
   ]
  },
  {
   "cell_type": "code",
   "execution_count": 3,
   "metadata": {},
   "outputs": [
    {
     "data": {
      "text/plain": [
       "-1"
      ]
     },
     "execution_count": 3,
     "metadata": {},
     "output_type": "execute_result"
    }
   ],
   "source": [
    "import cv2\n",
    "import numpy as np\n",
    "\n",
    "image = cv2.imread('clouds.jpg')\n",
    "cv2.imshow('Orignal_image',image)\n",
    "cv2.waitKey(0)\n",
    "\n",
    "# Creating our sharpening kernel, we don't normalize\n",
    "# since it adds upto 1\n",
    "\n",
    "kernel_sharpening = np.array([[-1,-1,-1],\n",
    "                             [-1,9,-1],\n",
    "                             [-1,-1,-1]])\n",
    "\n",
    "kernel_sharpening2 = np.array([[-2,-2,-2],\n",
    "                             [-2,17,-2],\n",
    "                             [-2,-2,-2]])\n",
    "\n",
    "#applying different kernels to the input image\n",
    "sharpened = cv2.filter2D(image,-1,kernel_sharpening2)\n",
    "\n",
    "cv2.imshow('sharpened_image',sharpened)\n",
    "cv2.waitKey(0)\n",
    "\n"
   ]
  },
  {
   "cell_type": "code",
   "execution_count": null,
   "metadata": {
    "collapsed": true
   },
   "outputs": [],
   "source": []
  },
  {
   "cell_type": "code",
   "execution_count": null,
   "metadata": {
    "collapsed": true
   },
   "outputs": [],
   "source": []
  }
 ],
 "metadata": {
  "kernelspec": {
   "display_name": "Python 3",
   "language": "python",
   "name": "python3"
  },
  "language_info": {
   "codemirror_mode": {
    "name": "ipython",
    "version": 3
   },
   "file_extension": ".py",
   "mimetype": "text/x-python",
   "name": "python",
   "nbconvert_exporter": "python",
   "pygments_lexer": "ipython3",
   "version": "3.6.1"
  }
 },
 "nbformat": 4,
 "nbformat_minor": 2
}

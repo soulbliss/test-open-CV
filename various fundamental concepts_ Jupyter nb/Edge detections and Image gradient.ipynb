{
 "cells": [
  {
   "cell_type": "code",
   "execution_count": 12,
   "metadata": {},
   "outputs": [],
   "source": [
    "import cv2\n",
    "import numpy as np\n",
    "\n",
    "image = cv2.imread('bo.jpg',0)\n",
    "height, width = image.shape\n",
    "\n",
    "#extract sobel edges\n",
    "sobel_x = cv2.Sobel(image, cv2.CV_64F, 0, 1, ksize=5)\n",
    "sobel_y = cv2.Sobel(image, cv2.CV_64F, 1, 0, ksize=5)\n",
    "\n",
    "cv2.imshow('original',image)\n",
    "cv2.waitKey()\n",
    "cv2.imshow('sobel_x',sobel_x)\n",
    "cv2.waitKey()\n",
    "cv2.imshow('sobel_y',sobel_y)\n",
    "cv2.waitKey()\n",
    "\n",
    "sobel_OR = cv2.bitwise_or(sobel_x,sobel_y)\n",
    "cv2.imshow('sobel_OR',sobel_OR)\n",
    "cv2.waitKey()\n",
    "\n",
    "#laplace edge detection\n",
    "laplacian = cv2.Laplacian(image, cv2.CV_64F)\n",
    "cv2.imshow('laplace',laplacian)\n",
    "cv2.waitKey()\n",
    "\n",
    "#canny edge detection\n",
    "# this uses the gradient values as thresholds\n",
    "canny = cv2.Canny(image,30,150)\n",
    "cv2.imshow('canny',canny)\n",
    "cv2.waitKey()\n",
    "\n",
    "cv2.destroyAllWindows()\n"
   ]
  },
  {
   "cell_type": "code",
   "execution_count": null,
   "metadata": {
    "collapsed": true
   },
   "outputs": [],
   "source": []
  }
 ],
 "metadata": {
  "kernelspec": {
   "display_name": "Python 3",
   "language": "python",
   "name": "python3"
  },
  "language_info": {
   "codemirror_mode": {
    "name": "ipython",
    "version": 3
   },
   "file_extension": ".py",
   "mimetype": "text/x-python",
   "name": "python",
   "nbconvert_exporter": "python",
   "pygments_lexer": "ipython3",
   "version": "3.6.1"
  }
 },
 "nbformat": 4,
 "nbformat_minor": 2
}

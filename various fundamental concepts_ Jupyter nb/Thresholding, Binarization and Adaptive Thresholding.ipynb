{
 "cells": [
  {
   "cell_type": "markdown",
   "metadata": {},
   "source": [
    "Thresholding is an act of converting an image to a binary form\n",
    "\n",
    "cv2.threshold(image, Threshold_value, Max_value,Threshold_type)"
   ]
  },
  {
   "cell_type": "code",
   "execution_count": 4,
   "metadata": {
    "collapsed": true
   },
   "outputs": [],
   "source": [
    "import cv2\n",
    "import numpy as np\n",
    "\n",
    "#load our image as greyscale\n",
    "image = cv2.imread('clouds.jpg',0)\n",
    "cv2.imshow('Orignal_image',image)\n",
    "cv2.waitKey()\n",
    "\n",
    "#Values below 127 go to 0 that is 0,  above 127 till 255 goes to white\n",
    "ret, thresh1 = cv2.threshold(image,127,255,cv2.THRESH_BINARY)\n",
    "cv2.imshow('threshold_image',thresh1)\n",
    "\n",
    "ret, thresh2 = cv2.threshold(image,127,255,cv2.THRESH_BINARY_INV)\n",
    "cv2.imshow('threshold_inverse_image',thresh2)\n",
    "\n",
    "#values above 127 are truncated(held) at 127 (255 argument is unused)\n",
    "ret, thresh3 = cv2.threshold(image,127,255,cv2.THRESH_TRUNC)\n",
    "cv2.imshow('threshold_truncated_image',thresh3)\n",
    "\n",
    "#to zero: below 127 is to 0, otherwise no change\n",
    "ret, thresh4 = cv2.threshold(image,127,255,cv2.THRESH_TOZERO)\n",
    "cv2.imshow('threshold_tozero_image',thresh4)\n",
    "\n",
    "#reverse of above\n",
    "ret, thresh5 = cv2.threshold(image,127,255,cv2.THRESH_TOZERO_INV)\n",
    "cv2.imshow('threshold_tozeroinv_image',thresh5)\n",
    "\n",
    "cv2.waitKey(0)\n",
    "cv2.destroyAllWindows()"
   ]
  },
  {
   "cell_type": "code",
   "execution_count": null,
   "metadata": {
    "collapsed": true
   },
   "outputs": [],
   "source": []
  },
  {
   "cell_type": "markdown",
   "metadata": {},
   "source": [
    " Is there a better way of thresholding ?\n",
    " the biggest downfall of those simple threshold methods is that we need to\n",
    " provide the threshold values (ie. 127 was used previously)\n",
    " "
   ]
  },
  {
   "cell_type": "markdown",
   "metadata": {},
   "source": [
    "What if there was a smarter way of doing this\n",
    "\n",
    "There is with, Adaptive thresholding\n",
    "cv2.adaptiveThreshold(image,max value, adaptive type,threshold type,\n",
    "                       block size, constant that is subtracted from mean )\n",
    "                       \n",
    "                       !: block sizes needs to be in odd numbers\n"
   ]
  },
  {
   "cell_type": "code",
   "execution_count": null,
   "metadata": {
    "collapsed": true
   },
   "outputs": [],
   "source": []
  },
  {
   "cell_type": "code",
   "execution_count": 1,
   "metadata": {
    "collapsed": true
   },
   "outputs": [],
   "source": [
    "import cv2\n",
    "import numpy as np\n",
    "\n",
    "#load our image as greyscale\n",
    "image = cv2.imread('clouds.jpg',0)\n",
    "cv2.imshow('Orignal_image',image)\n",
    "cv2.waitKey()\n",
    "\n",
    "\n",
    "#Values below 127 go to 0 that is 0,  above 127 till 255 goes to white\n",
    "ret, thresh1 = cv2.threshold(image,127,255,cv2.THRESH_BINARY)\n",
    "cv2.imshow('threshold_image',thresh1)\n",
    "cv2.waitKey(0)\n",
    "\n",
    "#its a good practice to blur images as it removes the noise\n",
    "image = cv2.GaussianBlur(image,(3,3),0)\n",
    "\n",
    "#using adaptive thresholding\n",
    "thresh = cv2.adaptiveThreshold(image,255, cv2.ADAPTIVE_THRESH_MEAN_C, \n",
    "                               cv2.THRESH_BINARY,3,5)\n",
    "cv2.imshow('adaptive mean thresholding',thresh)\n",
    "cv2.waitKey(0)\n",
    "\n",
    "#gaussian otsu's thresholdig\n",
    "_,th2 = cv2.threshold(image,0,255,cv2.THRESH_BINARY+cv2.THRESH_OTSU)\n",
    "cv2.imshow('gaussian otsus thresholding',thresh)\n",
    "cv2.waitKey(0)\n",
    "\n",
    "#otsu's thresholding after gaussiablur\n",
    "blur = cv2.GaussianBlur(image,(5,5),0)\n",
    "_,th3 = cv2.threshold(image,0,255,cv2.THRESH_BINARY+cv2.THRESH_OTSU)\n",
    "cv2.imshow('gaussian then otsus thresholding',thresh)\n",
    "cv2.waitKey(0)\n",
    "\n",
    "cv2.destroyAllWindows()"
   ]
  },
  {
   "cell_type": "code",
   "execution_count": null,
   "metadata": {
    "collapsed": true
   },
   "outputs": [],
   "source": []
  },
  {
   "cell_type": "code",
   "execution_count": null,
   "metadata": {
    "collapsed": true
   },
   "outputs": [],
   "source": []
  },
  {
   "cell_type": "code",
   "execution_count": null,
   "metadata": {
    "collapsed": true
   },
   "outputs": [],
   "source": []
  },
  {
   "cell_type": "code",
   "execution_count": null,
   "metadata": {
    "collapsed": true
   },
   "outputs": [],
   "source": []
  }
 ],
 "metadata": {
  "kernelspec": {
   "display_name": "Python 3",
   "language": "python",
   "name": "python3"
  },
  "language_info": {
   "codemirror_mode": {
    "name": "ipython",
    "version": 3
   },
   "file_extension": ".py",
   "mimetype": "text/x-python",
   "name": "python",
   "nbconvert_exporter": "python",
   "pygments_lexer": "ipython3",
   "version": "3.6.1"
  }
 },
 "nbformat": 4,
 "nbformat_minor": 2
}
